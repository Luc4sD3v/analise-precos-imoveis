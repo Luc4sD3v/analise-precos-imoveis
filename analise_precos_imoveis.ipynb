# ===============================
# Projeto: Análise de Preços de Imóveis
# Notebook pronto para rodar
# ===============================

# 1️⃣ Importar bibliotecas
import pandas as pd
import numpy as np
import matplotlib.pyplot as plt
import seaborn as sns

# Modelagem
from sklearn.model_selection import train_test_split
from sklearn.linear_model import LinearRegression
from sklearn.metrics import mean_squared_error

# Configuração de visualização
sns.set_style('whitegrid')
%matplotlib inline

# 2️⃣ Carregar o dataset
# Coloque o arquivo 'Housing.csv' na mesma pasta do notebook ou informe o caminho correto
df = pd.read_csv("Housing.csv")
df.head()

# 3️⃣ Exploração inicial dos dados
print("Dimensão do dataset:", df.shape)
print("\nInformações das colunas:")
print(df.info())
print("\nEstatísticas descritivas:")
print(df.describe())
print("\nValores nulos por coluna:")
print(df.isnull().sum())

# 4️⃣ Limpeza e tratamento de dados
# Exemplo: criar coluna preço por m²
df['price_per_m2'] = df['price'] / df['area']

# Transformar variáveis categóricas em dummies (para modelagem)
categorical_cols = ['mainroad', 'guestroom', 'basement', 'hotwaterheating', 'airconditioning', 'prefarea', 'furnishingstatus']
df = pd.get_dummies(df, columns=categorical_cols, drop_first=True)

# 5️⃣ Análise exploratória (EDA)
# Histograma do preço
plt.figure(figsize=(8,5))
sns.histplot(df['price'], kde=True, bins=30)
plt.title('Distribuição dos Preços dos Imóveis')
plt.xlabel('Preço')
plt.ylabel('Frequência')
plt.show()

# Scatter plot: número de quartos vs preço
plt.figure(figsize=(8,5))
sns.scatterplot(x=df['bedrooms'], y=df['price'])
plt.title('Preço vs Número de Quartos')
plt.show()

# Matriz de correlação
plt.figure(figsize=(12,10))
sns.heatmap(df.corr(), annot=True, cmap='coolwarm')
plt.title('Matriz de Correlação')
plt.show()

# 6️⃣ Preparar dados para modelo
X = df.drop('price', axis=1)
y = df['price']

# Dividir treino/teste
X_train, X_test, y_train, y_test = train_test_split(X, y, test_size=0.2, random_state=42)

# 7️⃣ Treinar modelo de regressão linear
model = LinearRegression()
model.fit(X_train, y_train)

# 8️⃣ Prever e avaliar
y_pred = model.predict(X_test)
mse = mean_squared_error(y_test, y_pred)
print("Erro Quadrático Médio (MSE):", mse)

# 9️⃣ Insights simples
# Exemplo: verificar coeficientes do modelo
coef = pd.Series(model.coef_, index=X.columns)
coef.sort_values(ascending=False).head(10)  # Top 10 variáveis que mais influenciam o preço
